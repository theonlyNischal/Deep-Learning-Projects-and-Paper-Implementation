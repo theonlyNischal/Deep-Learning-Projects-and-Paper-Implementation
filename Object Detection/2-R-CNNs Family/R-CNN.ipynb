{
 "cells": [
  {
   "cell_type": "markdown",
   "metadata": {},
   "source": [
    "### R-CNNs \n",
    "\n",
    "R-CNN refer to \"Region-Based CNN\" or \"Regions with CNN Features\". Developend by Ross [Grishick et. al](http://www.rossgirshick.info/) they have started a trend of using CNN for object detection successfully. R-CNNs family include:\n",
    "\n",
    "- R-CNN [Link to Paper](https://arxiv.org/abs/1311.2524)\n",
    "- Fast R-CNN [Link to Paper]()\n",
    "- Faster R-CNN [Link to Paper]()\n",
    "- Mask R-CNN [Link to Paper]()"
   ]
  },
  {
   "cell_type": "markdown",
   "metadata": {},
   "source": [
    "### R-CNN"
   ]
  },
  {
   "cell_type": "code",
   "execution_count": null,
   "metadata": {},
   "outputs": [],
   "source": []
  }
 ],
 "metadata": {
  "kernelspec": {
   "display_name": "Python 3",
   "language": "python",
   "name": "python3"
  },
  "language_info": {
   "codemirror_mode": {
    "name": "ipython",
    "version": 3
   },
   "file_extension": ".py",
   "mimetype": "text/x-python",
   "name": "python",
   "nbconvert_exporter": "python",
   "pygments_lexer": "ipython3",
   "version": "3.8.2"
  }
 },
 "nbformat": 4,
 "nbformat_minor": 4
}
