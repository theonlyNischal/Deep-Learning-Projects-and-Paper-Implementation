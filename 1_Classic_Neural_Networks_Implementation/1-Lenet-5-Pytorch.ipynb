{
 "cells": [
  {
   "cell_type": "markdown",
   "metadata": {},
   "source": [
    "In this notebook we will implement one of the first published Convolutional Neural Network, popularly known as [Lenet-5](http://yann.lecun.com/exdb/lenet/). Here, 5 means there are 5 learned layers, 2 of them are convolutional layer and remaining three are dense/linear layer. Originally, Lenet5 used average pooling but modern version of Lenet5 uses max-pool. Each convolutional layer uses filter of size 5x5. We are going to use a slightly different version of LeNet5. Compressed notation for LeNet5 which we will implement is shown as:\n",
    "\n",
    "![LeNet5-Compressed](assets/images/LeNet5-compressed.png)"
   ]
  },
  {
   "cell_type": "code",
   "execution_count": 1,
   "metadata": {},
   "outputs": [],
   "source": [
    "## Load necessary packages\n",
    "import torch\n",
    "import torch.nn as nn\n",
    "import numpy as np\n",
    "import matplotlib.pyplot as plt\n",
    "from torchvision import datasets, transforms\n",
    "import torch.nn.functional as F\n",
    "from torch.utils.data.sampler import SubsetRandomSampler\n",
    "import torch.optim as optim"
   ]
  },
  {
   "cell_type": "code",
   "execution_count": 83,
   "metadata": {},
   "outputs": [
    {
     "name": "stdout",
     "output_type": "stream",
     "text": [
      "mean: 0.13066047430038452\n",
      "std: 0.30810779333114624\n"
     ]
    }
   ],
   "source": [
    "data = datasets.MNIST(\"/home/aakrist/.pytorch/FashionMNIST_data/\",\n",
    "                     train=True, download=True)\n",
    "\n",
    "mean = data.data.float().mean() / 255\n",
    "std = data.data.float().std() / 255\n",
    "\n",
    "train_transform = transforms.Compose([\n",
    "    transforms.RandomRotation(5, fill=(0,)),\n",
    "    transforms.RandomCrop(28, padding=2),\n",
    "    transforms.ToTensor(),\n",
    "    transforms.Normalize(mean = [mean], std = [std])\n",
    "])\n",
    "\n",
    "test_transform = transforms.Compose([\n",
    "    transforms.RandomRotation(5, fill=(0,)),\n",
    "    transforms.RandomCrop(28, padding=2),\n",
    "    transforms.ToTensor(),\n",
    "    transforms.Normalize(mean = [mean], std = [std])\n",
    "])\n",
    "\n",
    "print(\"mean: {}\\nstd: {}\".format(mean, std))"
   ]
  },
  {
   "cell_type": "code",
   "execution_count": 84,
   "metadata": {},
   "outputs": [],
   "source": [
    "# Download and load the training data\n",
    "train_data = datasets.MNIST('/home/aakrist/.pytorch/MNIST_data/', download=True, train=True, transform=train_transform)\n",
    "\n",
    "# Download and load the test data\n",
    "test_data = datasets.MNIST('/home/aakrist/.pytorch/MNIST_data/', download=True, train=False, transform=test_transform)\n"
   ]
  },
  {
   "cell_type": "code",
   "execution_count": 85,
   "metadata": {},
   "outputs": [],
   "source": [
    "batch_size = 32\n",
    "valid_size = 0.10\n",
    "\n",
    "num_train = len(train_data)\n",
    "split_point = int(valid_size * num_train)\n",
    "\n",
    "indices = list(range(num_train))\n",
    "np.random.shuffle(indices)\n",
    "\n",
    "valid_indices = indices[:split_point]\n",
    "train_indices = indices[split_point:]\n",
    "\n",
    "train_sampler = SubsetRandomSampler(train_indices)\n",
    "valid_sampler = SubsetRandomSampler(valid_indices)"
   ]
  },
  {
   "cell_type": "code",
   "execution_count": 86,
   "metadata": {},
   "outputs": [],
   "source": [
    "train_loader = torch.utils.data.DataLoader(train_data, batch_size=batch_size, sampler=train_sampler)\n",
    "valid_loader = torch.utils.data.DataLoader(train_data, batch_size=batch_size, sampler=valid_sampler)\n",
    "test_loader = torch.utils.data.DataLoader(test_data, batch_size=batch_size, shuffle=True)"
   ]
  },
  {
   "cell_type": "code",
   "execution_count": 87,
   "metadata": {},
   "outputs": [
    {
     "data": {
      "image/png": "[encoded data removed]",
      "text/plain": [
       "<Figure size 1800x288 with 20 Axes>"
      ]
     },
     "metadata": {},
     "output_type": "display_data"
    }
   ],
   "source": [
    " # obtain one batch of test images\n",
    "dataiter = iter(test_loader)\n",
    "images, labels = dataiter.next()\n",
    "images.numpy()\n",
    "\n",
    "# move model inputs to cuda, if GPU available\n",
    "train_on_gpu = torch.cuda.is_available()\n",
    "if train_on_gpu:\n",
    "    images = images.cuda()\n",
    "\n",
    "\n",
    "# plot the images in the batch, along with predicted labels\n",
    "fig = plt.figure(figsize=(25, 4))\n",
    "for idx in np.arange(20):\n",
    "    ax = fig.add_subplot(2, 20/2, idx+1, xticks=[], yticks=[])\n",
    "    img = images.cpu()[idx]\n",
    "    img = img * 0.5 + 0.5\n",
    "    img = np.transpose(img, (1, 2, 0))\n",
    "    img = img.reshape((28,28))\n",
    "    plt.imshow(img)\n",
    "    ax.set_title(test_data.classes[labels[idx].item()])\n"
   ]
  },
  {
   "cell_type": "code",
   "execution_count": 99,
   "metadata": {},
   "outputs": [],
   "source": [
    "output_size = len(train_data.classes)\n",
    "class LeNet5(nn.Module):\n",
    "    \n",
    "    def __init__(self):\n",
    "        super().__init__()\n",
    "        \n",
    "        self.conv1 = nn.Conv2d(in_channels=1, out_channels=6, kernel_size=5)\n",
    "        self.conv2 = nn.Conv2d(in_channels=6, out_channels=16, kernel_size=5)\n",
    "        \n",
    "        self.fc1 = nn.Linear(16*4*4, 120)\n",
    "        self.fc2 = nn.Linear(120, 84)\n",
    "        self.fc3 = nn.Linear(84, output_size)\n",
    "        \n",
    "        self.pool = nn.MaxPool2d(kernel_size=2, stride=2)\n",
    "        \n",
    "    def forward(self, x):\n",
    "        x = self.conv1(x)\n",
    "        x = self.pool(x)\n",
    "        x = F.relu(x)\n",
    "        \n",
    "        x = self.conv2(x)\n",
    "        x = self.pool(x)\n",
    "        x = F.relu(x)\n",
    "        x = x.view(x.shape[0], -1) ## Flatten\n",
    "        x = F.relu(self.fc1(x))\n",
    "        x = F.relu(self.fc2(x))\n",
    "        x = F.relu(self.fc3(x))\n",
    "        \n",
    "        return x\n",
    "\n",
    "        "
   ]
  },
  {
   "cell_type": "code",
   "execution_count": 100,
   "metadata": {},
   "outputs": [
    {
     "data": {
      "text/plain": [
       "LeNet5(\n",
       "  (conv1): Conv2d(1, 6, kernel_size=(5, 5), stride=(1, 1))\n",
       "  (conv2): Conv2d(6, 16, kernel_size=(5, 5), stride=(1, 1))\n",
       "  (fc1): Linear(in_features=256, out_features=120, bias=True)\n",
       "  (fc2): Linear(in_features=120, out_features=84, bias=True)\n",
       "  (fc3): Linear(in_features=84, out_features=10, bias=True)\n",
       "  (pool): MaxPool2d(kernel_size=2, stride=2, padding=0, dilation=1, ceil_mode=False)\n",
       ")"
      ]
     },
     "execution_count": 100,
     "metadata": {},
     "output_type": "execute_result"
    }
   ],
   "source": [
    "lenet_model = LeNet5()\n",
    "lenet_model"
   ]
  },
  {
   "cell_type": "code",
   "execution_count": 101,
   "metadata": {},
   "outputs": [
    {
     "name": "stdout",
     "output_type": "stream",
     "text": [
      "The models has 44426 trainable parameters.\n"
     ]
    }
   ],
   "source": [
    "def count_parameters(model):\n",
    "    return sum(p.numel() for p in model.parameters() if p.requires_grad)\n",
    "\n",
    "print(\"The models has {} trainable parameters.\".format(count_parameters(lenet_model)))"
   ]
  },
  {
   "cell_type": "code",
   "execution_count": 102,
   "metadata": {},
   "outputs": [
    {
     "name": "stdout",
     "output_type": "stream",
     "text": [
      "Traning on GPU...\n"
     ]
    }
   ],
   "source": [
    "if train_on_gpu:\n",
    "    print(\"Traning on GPU...\")\n",
    "    lenet_model.cuda()"
   ]
  },
  {
   "cell_type": "code",
   "execution_count": 103,
   "metadata": {},
   "outputs": [],
   "source": [
    "criterion = nn.CrossEntropyLoss()\n",
    "optimizer = optim.Adam(lenet_model.parameters(), lr=0.001)"
   ]
  },
  {
   "cell_type": "code",
   "execution_count": 104,
   "metadata": {},
   "outputs": [
    {
     "name": "stdout",
     "output_type": "stream",
     "text": [
      "Epoch: 1 Train Loss: 0.9120074936069583 Valid Loss: 0.7921230583748919\n",
      "Validation Loss Decreased From inf to 0.7921230583748919\n",
      "Saving Best Model\n",
      "Epoch: 2 Train Loss: 0.7680429754893503 Valid Loss: 0.7543299792611853\n",
      "Validation Loss Decreased From 0.7921230583748919 to 0.7543299792611853\n",
      "Saving Best Model\n",
      "Epoch: 3 Train Loss: 0.7488241101310575 Valid Loss: 0.7488834063740487\n",
      "Validation Loss Decreased From 0.7543299792611853 to 0.7488834063740487\n",
      "Saving Best Model\n",
      "Epoch: 4 Train Loss: 0.7377855072671909 Valid Loss: 0.7645723065163227\n",
      "Epoch: 5 Train Loss: 0.7321197962150048 Valid Loss: 0.7442001408719002\n",
      "Validation Loss Decreased From 0.7488834063740487 to 0.7442001408719002\n",
      "Saving Best Model\n",
      "Epoch: 6 Train Loss: 0.7267730385418186 Valid Loss: 0.7251681799584246\n",
      "Validation Loss Decreased From 0.7442001408719002 to 0.7251681799584246\n",
      "Saving Best Model\n",
      "Epoch: 7 Train Loss: 0.7251323762557236 Valid Loss: 0.7290248447593223\n",
      "Epoch: 8 Train Loss: 0.7231177397301836 Valid Loss: 0.7252138193617476\n",
      "Epoch: 9 Train Loss: 0.719606520625723 Valid Loss: 0.7318139020749863\n",
      "Epoch: 10 Train Loss: 0.717351799724862 Valid Loss: 0.7335434808058942\n",
      "Epoch: 11 Train Loss: 0.7151588707261882 Valid Loss: 0.7250861061855833\n",
      "Validation Loss Decreased From 0.7251681799584246 to 0.7250861061855833\n",
      "Saving Best Model\n",
      "Epoch: 12 Train Loss: 0.7150350071631054 Valid Loss: 0.7158413813152211\n",
      "Validation Loss Decreased From 0.7250861061855833 to 0.7158413813152211\n",
      "Saving Best Model\n",
      "Epoch: 13 Train Loss: 0.7141706005392058 Valid Loss: 0.717011348364201\n",
      "Epoch: 14 Train Loss: 0.7122611172002922 Valid Loss: 0.7187759968194556\n",
      "Epoch: 15 Train Loss: 0.7136355945884616 Valid Loss: 0.7164820705322509\n",
      "Epoch: 16 Train Loss: 0.6686856311379592 Valid Loss: 0.5089320144913299\n",
      "Validation Loss Decreased From 0.7158413813152211 to 0.5089320144913299\n",
      "Saving Best Model\n",
      "Epoch: 17 Train Loss: 0.49676147892064815 Valid Loss: 0.4908615511624103\n",
      "Validation Loss Decreased From 0.5089320144913299 to 0.4908615511624103\n",
      "Saving Best Model\n",
      "Epoch: 18 Train Loss: 0.4926655659699256 Valid Loss: 0.4952223831985859\n",
      "Epoch: 19 Train Loss: 0.4936488903838241 Valid Loss: 0.4919968409503394\n",
      "Epoch: 20 Train Loss: 0.48828928664291354 Valid Loss: 0.49267754339157266\n"
     ]
    }
   ],
   "source": [
    "num_epochs = 20\n",
    "train_losses = list()\n",
    "valid_losses = []\n",
    "valid_loss_min = np.inf\n",
    "\n",
    "for e in range(num_epochs):\n",
    "    \n",
    "    train_loss = 0\n",
    "    valid_loss = 0\n",
    "    \n",
    "    lenet_model.train()\n",
    "    \n",
    "    for img, label in train_loader:\n",
    "        \n",
    "        if train_on_gpu:\n",
    "            img = img.cuda()\n",
    "            label = label.cuda()\n",
    "        optimizer.zero_grad()\n",
    "        \n",
    "        predicted_label = lenet_model(img)\n",
    "        loss = criterion(predicted_label, label)\n",
    "        loss.backward()\n",
    "        optimizer.step()\n",
    "        train_loss = train_loss + loss.item()\n",
    "    \n",
    "    for img, label in valid_loader:\n",
    "        \n",
    "        if train_on_gpu:\n",
    "            img = img.cuda()\n",
    "            label = label.cuda()\n",
    "        predicted_label = lenet_model(img)\n",
    "        loss = criterion(predicted_label, label)\n",
    "        valid_loss = valid_loss + loss.item()\n",
    "    \n",
    "    train_loss = train_loss/len(train_loader)\n",
    "    valid_loss = valid_loss/len(valid_loader)\n",
    "    \n",
    "    train_losses.append(train_loss)\n",
    "    valid_losses.append(valid_loss)\n",
    "    \n",
    "    print(\"Epoch: {} Train Loss: {} Valid Loss: {}\".format(\n",
    "        e+1, train_loss, valid_loss\n",
    "    ))\n",
    "    \n",
    "    if valid_loss < valid_loss_min:\n",
    "        print(\"Validation Loss Decreased From {} to {}\".format(\n",
    "            valid_loss_min, valid_loss\n",
    "        ))\n",
    "        \n",
    "        valid_loss_min = valid_loss\n",
    "        \n",
    "        torch.save(lenet_model.state_dict(), \"lenet5-best.pth\")\n",
    "        print(\"Saving Best Model\")"
   ]
  },
  {
   "cell_type": "code",
   "execution_count": 105,
   "metadata": {},
   "outputs": [
    {
     "data": {
      "text/plain": [
       "<matplotlib.legend.Legend at 0x7f9d747ce5b0>"
      ]
     },
     "execution_count": 105,
     "metadata": {},
     "output_type": "execute_result"
    },
    {
     "data": {
      "image/png": "[encoded data removed]",
      "text/plain": [
       "<Figure size 432x288 with 1 Axes>"
      ]
     },
     "metadata": {
      "needs_background": "light"
     },
     "output_type": "display_data"
    }
   ],
   "source": [
    "fig, axes = plt.subplots(nrows=1, ncols=1)\n",
    "axes.plot(train_losses, label=\"Train Loss\")\n",
    "axes.plot(valid_losses, label=\"Valid Loss\")\n",
    "axes.legend(frameon=False)"
   ]
  },
  {
   "cell_type": "code",
   "execution_count": 106,
   "metadata": {},
   "outputs": [
    {
     "name": "stdout",
     "output_type": "stream",
     "text": [
      "Epoch: 1 Test Loss: 0.49179880263896797 Accuracy: 0.8891773223876953\n",
      "Epoch: 2 Test Loss: 0.4959549068338984 Accuracy: 0.8925172686576843\n",
      "Epoch: 3 Test Loss: 0.4993725260222324 Accuracy: 0.8921286463737488\n",
      "Epoch: 4 Test Loss: 0.4923199847928138 Accuracy: 0.8932256102561951\n",
      "Epoch: 5 Test Loss: 0.4936605772796884 Accuracy: 0.8921309113502502\n",
      "-----------------------\n",
      "Average Accuracy: 89.184%-----------------------\n"
     ]
    }
   ],
   "source": [
    "## Testing the model.\n",
    "\n",
    "num_epochs = 5\n",
    "avg_accuracy = 0\n",
    "total_accuracy = 0\n",
    "test_loss = 0\n",
    "accuracy = 0\n",
    "lenet_model.eval()\n",
    "\n",
    "for epoch in range(num_epochs):\n",
    "    \n",
    "    for img, label in test_loader:\n",
    "        \n",
    "        if train_on_gpu:\n",
    "            img = img.cuda()\n",
    "            label = label.cuda()\n",
    "            \n",
    "        predicted_label = lenet_model(img)\n",
    "        loss = criterion(predicted_label, label)\n",
    "        test_loss = test_loss + loss.item()\n",
    "        \n",
    "        top_probab, top_label = predicted_label.topk(1, dim=1)\n",
    "        equals = top_label == label.view(*top_label.shape)\n",
    "        \n",
    "        accuracy = accuracy + torch.mean(equals.type(torch.FloatTensor))\n",
    "    test_loss = test_loss/len(test_loader)\n",
    "    accuracy = accuracy/len(test_loader)\n",
    "    total_accuracy = total_accuracy + accuracy\n",
    "    \n",
    "    print(\"Epoch: {} Test Loss: {} Accuracy: {}\".format(\n",
    "        epoch+1, test_loss, accuracy\n",
    "    ))\n",
    "\n",
    "avg_accuracy = total_accuracy/(num_epochs) * 100\n",
    "\n",
    "print(\"-----------------------\\nAverage Accuracy: {:.3f}%-----------------------\".format(avg_accuracy))"
   ]
  },
  {
   "cell_type": "code",
   "execution_count": 120,
   "metadata": {},
   "outputs": [
    {
     "data": {
      "image/png": "[encoded data removed]",
      "text/plain": [
       "<Figure size 1800x288 with 16 Axes>"
      ]
     },
     "metadata": {},
     "output_type": "display_data"
    }
   ],
   "source": [
    " # obtain one batch of test images\n",
    "dataiter = iter(test_loader)\n",
    "images, labels = dataiter.next()\n",
    "images.numpy()\n",
    "\n",
    "# move model inputs to cuda, if GPU available\n",
    "if train_on_gpu:\n",
    "    images = images.cuda()\n",
    "\n",
    "# get sample outputs\n",
    "output = lenet_model(images)\n",
    "# convert output probabilities to predicted class\n",
    "_, preds_tensor = torch.max(output, 1)\n",
    "preds = np.squeeze(preds_tensor.numpy()) if not train_on_gpu else np.squeeze(preds_tensor.cpu().numpy())\n",
    "\n",
    "\n",
    "\n",
    "# plot the images in the batch, along with predicted and true labels\n",
    "fig = plt.figure(figsize=(25, 4))\n",
    "for idx in np.arange(16):\n",
    "    ax = fig.add_subplot(2, 20/2, idx+1, xticks=[], yticks=[])\n",
    "    img = images.cpu()[idx]\n",
    "    img = img * 0.5 + 0.5\n",
    "    img = np.transpose(img, (1, 2, 0))\n",
    "    img = img.reshape((28,28))\n",
    "    plt.imshow(img, cmap=\"gray\")\n",
    "    ax.set_title(\"{} ({})\".format(train_data.classes[preds[idx].item()], train_data.classes[labels[idx].item()]),\n",
    "                 color=(\"green\" if preds[idx]==labels[idx].item() else \"red\")) \n"
   ]
  },
  {
   "cell_type": "code",
   "execution_count": null,
   "metadata": {},
   "outputs": [],
   "source": []
  }
 ],
 "metadata": {
  "kernelspec": {
   "display_name": "Python 3",
   "language": "python",
   "name": "python3"
  },
  "language_info": {
   "codemirror_mode": {
    "name": "ipython",
    "version": 3
   },
   "file_extension": ".py",
   "mimetype": "text/x-python",
   "name": "python",
   "nbconvert_exporter": "python",
   "pygments_lexer": "ipython3",
   "version": "3.8.2"
  }
 },
 "nbformat": 4,
 "nbformat_minor": 4
}
