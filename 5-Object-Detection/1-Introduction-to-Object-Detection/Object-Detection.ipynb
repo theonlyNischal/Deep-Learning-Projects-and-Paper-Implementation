{
 "cells": [
  {
   "cell_type": "markdown",
   "metadata": {},
   "source": [
    "Classical and Modern CNNs were responsible to extract features from image and classify them into category. In image classification there is only one output(class of the image) and we only focus on how to find the class. There are many cases where there are multiple objects with different categories. Object detection is a process of classifying each objects and finding position of each object in the given image. \n",
    "\n",
    "**Object Detection = (Object Classifying + Object Localization) of each objects in given image.**\n",
    "\n",
    "**Object Classifying**\n",
    "Object classifying means assigning a class label to the object.\n",
    "\n",
    "**Object Localization**\n",
    "Object localization means finding the position of object mostly done by drawing a bounding box around the object.\n",
    "\n"
   ]
  },
  {
   "cell_type": "code",
   "execution_count": null,
   "metadata": {},
   "outputs": [],
   "source": []
  }
 ],
 "metadata": {
  "kernelspec": {
   "display_name": "Python 3",
   "language": "python",
   "name": "python3"
  },
  "language_info": {
   "codemirror_mode": {
    "name": "ipython",
    "version": 3
   },
   "file_extension": ".py",
   "mimetype": "text/x-python",
   "name": "python",
   "nbconvert_exporter": "python",
   "pygments_lexer": "ipython3",
   "version": "3.8.2"
  }
 },
 "nbformat": 4,
 "nbformat_minor": 4
}
