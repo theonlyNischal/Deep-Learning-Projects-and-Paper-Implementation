{
 "cells": [
  {
   "cell_type": "markdown",
   "metadata": {},
   "source": [
    "References:\n",
    "\n",
    "https://www.geeksforgeeks.org/r-cnn-vs-fast-r-cnn-vs-faster-r-cnn-ml/\n",
    "\n",
    "https://towardsdatascience.com/r-cnn-fast-r-cnn-faster-r-cnn-yolo-object-detection-algorithms-36d53571365e\n",
    "\n",
    "### R-CNNs \n",
    "\n",
    "R-CNN refer to \"Region-Based CNN\" or \"Regions with CNN Features\". Developend by Ross [Grishick et. al](http://www.rossgirshick.info/) they have started a trend of using CNN for object detection successfully. R-CNNs family include:\n",
    "\n",
    "- R-CNN [Link to Paper](https://arxiv.org/abs/1311.2524)\n",
    "- Fast R-CNN [Link to Paper]()\n",
    "- Faster R-CNN [Link to Paper]()\n",
    "- Mask R-CNN [Link to Paper]()"
   ]
  },
  {
   "cell_type": "markdown",
   "metadata": {},
   "source": [
    "### R-CNN\n",
    "\n",
    "Previously, given an input image, sliding window of different size were slided over the image and each sliding window is passed through classifier to classify the content of the window. The problem with this approach is many non-interesting window will also be passed, so a lot of computational resource will be wasted.\n",
    "\n",
    "![Mountain_1](../assets/mountain_1.png)\n",
    "\n",
    "Many window like above with varying sizes will be slided and all of them will be passed through classifier. As said earlier, it is resource hungry. So what R-CNN proposed is instead of passing many many many regions we will pass only interesting regions(nearly 2000) through a selective search algorithm.\n",
    "\n",
    "![Selective Search](../assets/rcnn_model.png)\n",
    "\n",
    "Selective search algorithm returns regions with varying size. So, they are warped around a fixed size and theyn they are fed to CNN. The features and labeled category of each proposed region are combined as an example to train multiple SVM for object classification and to train a linear regression model for bounding box prediction.\n",
    "\n",
    "![RCNN Architecture](../assets/rcnn_arch.png)\n",
    "\n",
    "**Problems**\n",
    "The main downside of RCNN is slow speed. Every image supplies 2000 region proposals and they all need to passed through a trained CNN and a lot of time is needed to train the network. The same case arises during testing too. This is the reason why RCNN is rarely used in practice."
   ]
  },
  {
   "cell_type": "markdown",
   "metadata": {},
   "source": [
    "### Fast RCNN\n",
    "\n",
    "RCNN was slow because nearly 2000 region of interest proposals were sent to CNN. In Fast R-CNN instead of supplying ROI proposals we supply it with a single input image and convolutional feature maps is produced. From the convolutional feature maps, we identify the region of proposals and warm them into squares and by using a ROI pooling layer we reshape them into a fixed size so that it can be fed into a fully connected layer. From the ROI feature vector, we use a softmax layer to predict the class of the proposed region and also the offset values for the bounding box.\n",
    "\n",
    "![Fast RCNN](../assets/fast_rcnn_model.png)"
   ]
  },
  {
   "cell_type": "code",
   "execution_count": null,
   "metadata": {},
   "outputs": [],
   "source": []
  }
 ],
 "metadata": {
  "kernelspec": {
   "display_name": "Python 3",
   "language": "python",
   "name": "python3"
  },
  "language_info": {
   "codemirror_mode": {
    "name": "ipython",
    "version": 3
   },
   "file_extension": ".py",
   "mimetype": "text/x-python",
   "name": "python",
   "nbconvert_exporter": "python",
   "pygments_lexer": "ipython3",
   "version": "3.8.2"
  }
 },
 "nbformat": 4,
 "nbformat_minor": 4
}
